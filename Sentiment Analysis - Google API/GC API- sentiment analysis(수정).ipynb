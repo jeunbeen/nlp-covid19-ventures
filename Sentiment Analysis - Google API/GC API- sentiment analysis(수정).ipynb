{
 "cells": [
  {
   "cell_type": "markdown",
   "id": "2a91734d",
   "metadata": {},
   "source": [
    "!pip install google\n",
    "!pip install google-cloud\n",
    "!pip install google-cloud-language"
   ]
  },
  {
   "cell_type": "code",
   "execution_count": 63,
   "id": "51fb7d4b",
   "metadata": {},
   "outputs": [],
   "source": [
    "import argparse\n",
    "import pandas as pd\n",
    "import os\n",
    "\n",
    "from google.cloud import language_v1"
   ]
  },
  {
   "cell_type": "code",
   "execution_count": 65,
   "id": "b81a431a",
   "metadata": {},
   "outputs": [],
   "source": [
    "'''\n",
    "initial setting\n",
    "'''\n",
    "# service key\n",
    "os.environ['GOOGLE_APPLICATION_CREDENTIALS'] = 'service_secret_key_nlpkosi01.json'\n",
    "\n",
    "\n",
    "'''\n",
    "신문 본문(data.body 중 하나, 여기서는 'article'로 표현)을 집어넣으면\n",
    "해당 신문기사의 (긍정적인 정도 , 감정적인 정도) tuple이 return 됩니다.\n",
    "\n",
    "ex, (0.5 , 5.5) 의 의미?\n",
    "    -> 해당 신문기사가 0.5 만큼 긍정적이고, 그 감정의 강도는 5.5 라는 의미\n",
    "'''\n",
    "def analyze(article) -> tuple:\n",
    "    client = language_v1.LanguageServiceClient()\n",
    "    content = article\n",
    "    \n",
    "    document = language_v1.Document(content=content, type_=language_v1.Document.Type.PLAIN_TEXT)\n",
    "    annotations = client.analyze_sentiment(request = {'document':document})\n",
    "    \n",
    "    score = annotations.document_sentiment.score\n",
    "    magnitude = annotations.document_sentiment.magnitude\n",
    "    \n",
    "    return score, magnitude\n",
    "    \n",
    "    \n",
    "    \n",
    "    \n",
    "'''사용하지 않을 함수. (debug용)'''\n",
    "def print_result(annotations):\n",
    "    score = annotations.document_sentiment.score\n",
    "    magnitude = annotations.document_sentiment.magnitude\n",
    "    \n",
    "    \n",
    "    for index, sentence in enumerate(annotations.sentences):\n",
    "        sentence_sentiment = sentence.sentiment.score\n",
    "        print(\"Sentence {} has a sentiment score of {}\".format(index, sentence_sentiment))\n",
    "    print(\"Overall sentiment: score of {} with magnitude of {}\".format(score, magnitude))\n",
    "    \n",
    "    return 0"
   ]
  },
  {
   "cell_type": "markdown",
   "id": "70324d4d",
   "metadata": {},
   "source": [
    "# sentiment analysis"
   ]
  },
  {
   "cell_type": "code",
   "execution_count": 70,
   "id": "65445d49",
   "metadata": {},
   "outputs": [
    {
     "data": {
      "text/plain": [
       "{0: (0.4000000059604645, 12.5),\n",
       " 1: (0.20000000298023224, 9.600000381469727),\n",
       " 2: (0.10000000149011612, 12.600000381469727),\n",
       " 3: (0.20000000298023224, 16.799999237060547)}"
      ]
     },
     "execution_count": 70,
     "metadata": {},
     "output_type": "execute_result"
    }
   ],
   "source": [
    "datafile = pd.read_csv('동아일보 크롤링(utf-8).csv')\n",
    "data = datafile.body\n",
    "\n",
    "\n",
    "data_dict = {}\n",
    "\n",
    "for idx in range(len(data)):\n",
    "    article = data[idx]\n",
    "    \n",
    "    # data processing & save data into dictionary\n",
    "    data_dict[idx] = analyze(article)\n",
    "    \n",
    "data_dict"
   ]
  }
 ],
 "metadata": {
  "kernelspec": {
   "display_name": "Python 3 (ipykernel)",
   "language": "python",
   "name": "python3"
  },
  "language_info": {
   "codemirror_mode": {
    "name": "ipython",
    "version": 3
   },
   "file_extension": ".py",
   "mimetype": "text/x-python",
   "name": "python",
   "nbconvert_exporter": "python",
   "pygments_lexer": "ipython3",
   "version": "3.7.11"
  }
 },
 "nbformat": 4,
 "nbformat_minor": 5
}
