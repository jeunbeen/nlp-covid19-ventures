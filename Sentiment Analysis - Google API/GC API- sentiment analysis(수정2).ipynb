{
 "cells": [
  {
   "cell_type": "markdown",
   "id": "2f72892b",
   "metadata": {},
   "source": [
    "!pip install google\n",
    "!pip install google-cloud\n",
    "!pip install google-cloud-language"
   ]
  },
  {
   "cell_type": "code",
   "execution_count": 1,
   "id": "7e5c0d02",
   "metadata": {},
   "outputs": [],
   "source": [
    "import argparse\n",
    "import pandas as pd\n",
    "import os\n",
    "\n",
    "from google.cloud import language_v1"
   ]
  },
  {
   "cell_type": "code",
   "execution_count": 2,
   "id": "24a93cdb",
   "metadata": {},
   "outputs": [],
   "source": [
    "'''\n",
    "initial setting\n",
    "'''\n",
    "# service key\n",
    "os.environ['GOOGLE_APPLICATION_CREDENTIALS'] = 'service_secret_key_nlpkosi01.json'\n",
    "\n",
    "\n",
    "'''\n",
    "신문 본문(data.body 중 하나, 여기서는 'article'로 표현)을 집어넣으면\n",
    "해당 신문기사의 (긍정적인 정도 , 감정적인 정도) tuple이 return 됩니다.\n",
    "\n",
    "ex, (0.5 , 5.5) 의 의미?\n",
    "    -> 해당 신문기사가 0.5 만큼 긍정적이고, 그 감정의 강도는 5.5 라는 의미\n",
    "'''\n",
    "def analyze(article) -> tuple:\n",
    "    client = language_v1.LanguageServiceClient()\n",
    "    content = article\n",
    "    \n",
    "    document = language_v1.Document(content=content, type_=language_v1.Document.Type.PLAIN_TEXT)\n",
    "    annotations = client.analyze_sentiment(request = {'document':document})\n",
    "    \n",
    "    score = annotations.document_sentiment.score\n",
    "    magnitude = annotations.document_sentiment.magnitude\n",
    "    \n",
    "    return score, magnitude\n",
    "    \n",
    "    \n",
    "    \n",
    "    \n",
    "'''사용하지 않을 함수. (debug용)'''\n",
    "def print_result(annotations):\n",
    "    score = annotations.document_sentiment.score\n",
    "    magnitude = annotations.document_sentiment.magnitude\n",
    "    \n",
    "    \n",
    "    for index, sentence in enumerate(annotations.sentences):\n",
    "        sentence_sentiment = sentence.sentiment.score\n",
    "        print(\"Sentence {} has a sentiment score of {}\".format(index, sentence_sentiment))\n",
    "    print(\"Overall sentiment: score of {} with magnitude of {}\".format(score, magnitude))\n",
    "    \n",
    "    return 0"
   ]
  },
  {
   "cell_type": "markdown",
   "id": "d69f7eaf",
   "metadata": {},
   "source": [
    "# sentiment analysis"
   ]
  },
  {
   "cell_type": "code",
   "execution_count": 30,
   "id": "97c3ea9f",
   "metadata": {
    "scrolled": true
   },
   "outputs": [
    {
     "data": {
      "text/plain": [
       "{0: (0.5, 3.4000000953674316),\n",
       " 1: (0.20000000298023224, 1.5),\n",
       " 2: (0.20000000298023224, 0.20000000298023224),\n",
       " 3: (0.0, 1.5),\n",
       " 4: (-0.10000000149011612, 1.600000023841858),\n",
       " 5: (0.4000000059604645, 1.7000000476837158),\n",
       " 6: (0.4000000059604645, 12.5),\n",
       " 7: (0.20000000298023224, 9.600000381469727),\n",
       " 8: (0.10000000149011612, 12.600000381469727),\n",
       " 9: (0.20000000298023224, 16.799999237060547),\n",
       " 10: (0.0, 3.799999952316284),\n",
       " 11: (0.10000000149011612, 4.699999809265137),\n",
       " 12: (0.10000000149011612, 4.699999809265137),\n",
       " 13: (0.20000000298023224, 3.5999999046325684),\n",
       " 14: (0.20000000298023224, 10.600000381469727),\n",
       " 15: (0.30000001192092896, 3.9000000953674316),\n",
       " 16: (0.20000000298023224, 3.9000000953674316),\n",
       " 17: (0.30000001192092896, 2.4000000953674316),\n",
       " 18: (0.30000001192092896, 8.399999618530273),\n",
       " 19: (0.20000000298023224, 3.700000047683716),\n",
       " 20: (0.20000000298023224, 4.099999904632568),\n",
       " 21: (0.20000000298023224, 3.700000047683716),\n",
       " 22: (0.20000000298023224, 3.299999952316284),\n",
       " 23: (0.10000000149011612, 3.0999999046325684),\n",
       " 24: (0.20000000298023224, 3.5),\n",
       " 25: (0.20000000298023224, 12.0),\n",
       " 26: (0.20000000298023224, 4.400000095367432),\n",
       " 27: (0.20000000298023224, 3.0999999046325684),\n",
       " 28: (0.20000000298023224, 23.899999618530273),\n",
       " 29: (0.10000000149011612, 8.199999809265137),\n",
       " 30: (0.20000000298023224, 13.300000190734863),\n",
       " 31: (0.20000000298023224, 3.4000000953674316),\n",
       " 32: (0.30000001192092896, 6.300000190734863),\n",
       " 33: (0.20000000298023224, 19.5),\n",
       " 34: (0.20000000298023224, 3.0),\n",
       " 35: (0.20000000298023224, 5.0),\n",
       " 36: (0.20000000298023224, 2.5),\n",
       " 37: (0.30000001192092896, 3.5),\n",
       " 38: (0.20000000298023224, 23.799999237060547),\n",
       " 39: (0.30000001192092896, 6.300000190734863),\n",
       " 40: (0.0, 6.800000190734863),\n",
       " 41: (0.10000000149011612, 6.099999904632568),\n",
       " 42: (0.30000001192092896, 6.199999809265137),\n",
       " 43: (0.0, 4.800000190734863),\n",
       " 44: (0.30000001192092896, 7.099999904632568),\n",
       " 45: (0.20000000298023224, 21.399999618530273),\n",
       " 46: (0.30000001192092896, 4.699999809265137),\n",
       " 47: (0.20000000298023224, 4.0),\n",
       " 48: (0.0, 7.699999809265137),\n",
       " 49: (0.20000000298023224, 5.900000095367432),\n",
       " 50: (0.20000000298023224, 2.5999999046325684),\n",
       " 51: (0.10000000149011612, 2.5999999046325684),\n",
       " 52: (0.20000000298023224, 2.700000047683716),\n",
       " 53: (0.10000000149011612, 6.800000190734863),\n",
       " 54: (0.20000000298023224, 5.099999904632568),\n",
       " 55: (0.10000000149011612, 9.0),\n",
       " 56: (0.10000000149011612, 2.4000000953674316),\n",
       " 57: (0.10000000149011612, 2.5),\n",
       " 58: (0.0, 3.799999952316284),\n",
       " 59: (0.20000000298023224, 6.099999904632568),\n",
       " 60: (0.20000000298023224, 2.700000047683716),\n",
       " 61: (0.10000000149011612, 2.5999999046325684),\n",
       " 62: (0.30000001192092896, 2.5999999046325684),\n",
       " 63: (0.30000001192092896, 6.900000095367432),\n",
       " 64: (0.30000001192092896, 4.900000095367432),\n",
       " 65: (0.20000000298023224, 3.5999999046325684),\n",
       " 66: (0.20000000298023224, 2.0999999046325684),\n",
       " 67: (0.0, 1.7999999523162842),\n",
       " 68: (-0.10000000149011612, 7.599999904632568),\n",
       " 69: (0.10000000149011612, 6.300000190734863),\n",
       " 70: (0.20000000298023224, 5.800000190734863),\n",
       " 71: (0.30000001192092896, 3.799999952316284),\n",
       " 72: (0.0, 7.300000190734863),\n",
       " 73: (0.30000001192092896, 3.0),\n",
       " 74: (0.0, 1.2000000476837158),\n",
       " 75: (0.20000000298023224, 3.299999952316284),\n",
       " 76: (0.20000000298023224, 2.0),\n",
       " 77: (0.20000000298023224, 0.6000000238418579),\n",
       " 78: (0.0, 3.0999999046325684),\n",
       " 79: (0.20000000298023224, 7.199999809265137),\n",
       " 80: (0.4000000059604645, 2.799999952316284),\n",
       " 81: (0.30000001192092896, 2.700000047683716),\n",
       " 82: (0.30000001192092896, 2.700000047683716),\n",
       " 83: (0.10000000149011612, 5.199999809265137),\n",
       " 84: (0.4000000059604645, 1.7000000476837158),\n",
       " 85: (0.4000000059604645, 1.7000000476837158),\n",
       " 86: (0.20000000298023224, 1.600000023841858),\n",
       " 87: (0.20000000298023224, 2.799999952316284),\n",
       " 88: (0.20000000298023224, 4.0),\n",
       " 89: (0.20000000298023224, 1.2999999523162842),\n",
       " 90: (0.20000000298023224, 1.0),\n",
       " 91: (0.20000000298023224, 2.200000047683716),\n",
       " 92: (0.0, 5.900000095367432),\n",
       " 93: (0.20000000298023224, 1.0),\n",
       " 94: (0.10000000149011612, 3.5)}"
      ]
     },
     "execution_count": 30,
     "metadata": {},
     "output_type": "execute_result"
    }
   ],
   "source": [
    "datafile = pd.read_csv('신문기사모음(9.17)(utf8).csv')\n",
    "data = datafile.body\n",
    "\n",
    "\n",
    "data_dict = {}\n",
    "\n",
    "for idx in range(len(data)):\n",
    "    article = data[idx]\n",
    "    \n",
    "    # data processing & save data into dictionary\n",
    "    data_dict[idx] = analyze(article)\n",
    "    \n",
    "result = pd.DataFrame(data_dict).transpose().reset_index()\n",
    "result.columns = ['index','score', 'magnitude']\n",
    "result_merged = pd.merge(datafile, result, how = 'left', on = 'index')\n",
    "del result_merged['index']\n",
    "\n",
    "# result\n",
    "result_merged"
   ]
  },
  {
   "cell_type": "markdown",
   "id": "dc3f348d",
   "metadata": {},
   "source": [
    "# 크롤링한 신문기사 재가공 (합쳐서 utf-8로)"
   ]
  },
  {
   "cell_type": "code",
   "execution_count": 29,
   "id": "c0d0a053",
   "metadata": {
    "scrolled": true
   },
   "outputs": [
    {
     "name": "stdout",
     "output_type": "stream",
     "text": [
      "경향 크롤링.csv\n",
      "동아일보 크롤링.csv\n",
      "디지털타임스 크롤링.csv\n",
      "매일경제 크롤링.csv\n",
      "전자신문 크롤링.csv\n",
      "조선일보 크롤링.csv\n",
      "중앙일보 크롤링.csv\n",
      "한겨레 크롤링.csv\n",
      "한국경제 크롤링.csv\n"
     ]
    }
   ],
   "source": [
    "os.listdir()\n",
    "\n",
    "table = pd.DataFrame()\n",
    "\n",
    "for file in os.listdir():\n",
    "    if file[-7:] != '크롤링.csv':\n",
    "        continue\n",
    "    print(file)\n",
    "    try:\n",
    "        data = pd.read_csv(file, encoding = 'cp949', index_col = 0)\n",
    "    except:\n",
    "        continue\n",
    "    if len(data) == 0:\n",
    "        continue\n",
    "    table = pd.concat([table, data])\n",
    "    \n",
    "table.to_csv('신문기사모음(9.17)(utf8).csv', encoding = 'utf-8')\n",
    "    \n",
    "    "
   ]
  },
  {
   "cell_type": "code",
   "execution_count": null,
   "id": "c30f0eed",
   "metadata": {},
   "outputs": [],
   "source": []
  }
 ],
 "metadata": {
  "kernelspec": {
   "display_name": "Python 3 (ipykernel)",
   "language": "python",
   "name": "python3"
  },
  "language_info": {
   "codemirror_mode": {
    "name": "ipython",
    "version": 3
   },
   "file_extension": ".py",
   "mimetype": "text/x-python",
   "name": "python",
   "nbconvert_exporter": "python",
   "pygments_lexer": "ipython3",
   "version": "3.7.11"
  }
 },
 "nbformat": 4,
 "nbformat_minor": 5
}
