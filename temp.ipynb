{
 "cells": [
  {
   "cell_type": "code",
   "execution_count": 5,
   "source": [
    "a = [[10, 20], [30, 40], [50, 60]]\r\n",
    "\r\n",
    "for i in range(len(a)):            # 세로 크기\r\n",
    "    for j in range(len(a[i])):     # 가로 크기 a[i] [값, 값]의 len은 2\r\n",
    "        print(a[i][j], end=' ')\r\n",
    "    print()"
   ],
   "outputs": [
    {
     "output_type": "stream",
     "name": "stdout",
     "text": [
      "10 20 \n",
      "30 40 \n",
      "50 60 \n"
     ]
    }
   ],
   "metadata": {}
  },
  {
   "cell_type": "code",
   "execution_count": 7,
   "source": [
    "a = [[10, 20], [30, 40], [50, 60]]\r\n",
    "\r\n",
    "for i in a:\r\n",
    "    for j in i:\r\n",
    "        print(j)          # 인덱스를 1 증가시킴"
   ],
   "outputs": [
    {
     "output_type": "stream",
     "name": "stdout",
     "text": [
      "10\n",
      "20\n",
      "30\n",
      "40\n",
      "50\n",
      "60\n"
     ]
    }
   ],
   "metadata": {}
  },
  {
   "cell_type": "code",
   "execution_count": 9,
   "source": [
    "import pandas as pd\r\n",
    "\r\n",
    "data = pd.read_csv('한국경제 크롤링.csv', encoding = 'cp949')"
   ],
   "outputs": [],
   "metadata": {}
  },
  {
   "cell_type": "code",
   "execution_count": 11,
   "source": [
    "text = data.body\r\n",
    "# text"
   ],
   "outputs": [],
   "metadata": {}
  },
  {
   "cell_type": "code",
   "execution_count": 20,
   "source": [
    "# 품사 태깅\r\n",
    "\r\n",
    "from konlpy.tag import Okt  \r\n",
    "\r\n",
    "tagged_words = []\r\n",
    "okt=Okt()\r\n",
    "for line in text:\r\n",
    "    tagged_words.append(okt.pos(line))\r\n",
    "\r\n",
    "print(tagged_words[0])\r\n",
    "\r\n",
    "# from konlpy.tag import Kkma  \r\n",
    "# kkma=Kkma()  \r\n",
    "# for line in text:\r\n",
    "#     print(kkma.pos(line))"
   ],
   "outputs": [
    {
     "output_type": "stream",
     "name": "stdout",
     "text": [
      "[('\\r\\n\\t\\t\\t\\t\\t\\t\\t\\t', 'Foreign'), ('한때', 'Adverb'), ('해외', 'Noun'), ('영토', 'Noun'), ('확장', 'Noun'), ('에', 'Josa'), ('따른', 'Verb'), ('성장', 'Noun'), ('스토리', 'Noun'), ('가', 'Josa'), ('부각', 'Noun'), ('받으면서', 'Verb'), ('주식시장', 'Noun'), ('에서', 'Josa'), ('승승장구', 'Noun'), ('했던', 'Verb'), ('게임', 'Noun'), ('주', 'Noun'), ('들', 'Suffix'), ('이', 'Josa'), ('고전', 'Noun'), ('을', 'Josa'), ('면', 'Noun'), ('하지', 'Verb'), ('못', 'Noun'), ('하고', 'Josa'), ('있다', 'Adjective'), ('.', 'Punctuation'), ('업종', 'Noun'), ('대장', 'Noun'), ('주인', 'Noun'), ('엔씨소프트', 'Noun'), ('(', 'Punctuation'), ('599000', 'Number'), ('1.35%', 'Number'), (')', 'Foreign'), ('는', 'Verb'), ('신작', 'Noun'), ('리니지', 'Noun'), ('2', 'Number'), ('M', 'Alpha'), ('의', 'Noun'), ('흥행', 'Noun'), ('을', 'Josa'), ('기반', 'Noun'), ('으로', 'Josa'), ('질주', 'Noun'), ('하고', 'Josa'), ('있지만', 'Adjective'), ('나머지', 'Noun'), ('종목', 'Noun'), ('들', 'Suffix'), ('은', 'Josa'), ('흥행', 'Noun'), ('작', 'Noun'), ('부재', 'Noun'), ('속', 'Noun'), ('에', 'Josa'), ('주가', 'Noun'), ('도', 'Josa'), ('힘', 'Noun'), ('을', 'Josa'), ('잃은', 'Verb'), ('모습', 'Noun'), ('이다', 'Josa'), ('.', 'Punctuation'), ('\\r\\n\\r\\n\\r\\n\\r\\n\\r\\n\\r\\n\\r\\n                            ', 'Foreign'), ('9일', 'Number'), ('유가', 'Noun'), ('증권', 'Noun'), ('시장', 'Noun'), ('에서', 'Josa'), ('넷마블', 'Noun'), ('(', 'Punctuation'), ('125000', 'Number'), ('2.88%', 'Number'), (')', 'Foreign'), ('은', 'Noun'), ('1700원', 'Number'), ('(', 'Punctuation'), ('1.95%', 'Number'), (')', 'Foreign'), ('오른', 'Noun'), ('8만', 'Number'), ('9000원', 'Number'), ('에', 'Foreign'), ('마감', 'Noun'), ('했다', 'Verb'), ('.', 'Punctuation'), ('이', 'Determiner'), ('날', 'Noun'), ('상승', 'Noun'), ('했지만', 'Verb'), ('넷마블', 'Noun'), ('주가', 'Noun'), ('는', 'Josa'), ('작년', 'Noun'), ('고', 'Modifier'), ('점', 'Noun'), ('에', 'Josa'), ('비해', 'Verb'), ('35.51%', 'Number'), ('떨어졌다', 'Verb'), ('.', 'Punctuation'), ('지난해', 'Noun'), ('선보인', 'Verb'), ('대규모', 'Noun'), ('신작', 'Noun'), ('BTS', 'Alpha'), ('월드', 'Noun'), ('가', 'Josa'), ('흥행', 'Noun'), ('에', 'Josa'), ('실패하면서', 'Adjective'), ('주가', 'Noun'), ('가', 'Josa'), ('급락', 'Noun'), ('했고', 'Verb'), ('이후', 'Noun'), ('회복하지', 'Adjective'), ('못', 'Noun'), ('하고', 'Josa'), ('있다', 'Adjective'), ('.', 'Punctuation'), ('금융', 'Noun'), ('정보', 'Noun'), ('업체', 'Noun'), ('에프', 'Noun'), ('앤', 'Noun'), ('가이드', 'Noun'), ('에', 'Josa'), ('따르면', 'Verb'), ('넷마블', 'Noun'), ('의', 'Josa'), ('지난해', 'Noun'), ('영업', 'Noun'), ('이익', 'Noun'), ('컨센서스', 'Noun'), ('(', 'Punctuation'), ('증권사', 'Noun'), ('추', 'Noun'), ('정치', 'Noun'), ('평균', 'Noun'), (')', 'Punctuation'), ('는', 'Verb'), ('전', 'Modifier'), ('년', 'Noun'), ('대비', 'Noun'), ('5.5%', 'Number'), ('감소', 'Noun'), ('한', 'Josa'), ('2283억원', 'Number'), ('이다', 'Foreign'), ('.', 'Punctuation'), ('작년', 'Noun'), ('상반기', 'Noun'), ('까지만', 'Josa'), ('해도', 'Noun'), ('게임', 'Noun'), ('업종', 'Noun'), ('대', 'Modifier'), ('장주', 'Noun'), ('자리', 'Noun'), ('를', 'Josa'), ('두고', 'Verb'), ('다투던', 'Verb'), ('엔씨소프트', 'Noun'), ('와의', 'Josa'), ('시가총액', 'Noun'), ('차이는', 'Verb'), ('9일', 'Number'), ('기준', 'Noun'), ('으로', 'Josa'), ('5조', 'Number'), ('7167억원', 'Number'), ('까지', 'Foreign'), ('벌어졌다', 'Verb'), ('.', 'Punctuation'), ('주가', 'Noun'), ('부진', 'Noun'), ('은', 'Josa'), ('엔씨소프트', 'Noun'), ('를', 'Josa'), ('제외', 'Noun'), ('한', 'Josa'), ('게임', 'Noun'), ('주', 'Noun'), ('들', 'Suffix'), ('의', 'Josa'), ('공통', 'Noun'), ('적', 'Suffix'), ('현상', 'Noun'), ('이다', 'Josa'), ('.', 'Punctuation'), ('시가총액', 'Noun'), ('1조원', 'Number'), ('이', 'Foreign'), ('넘는', 'Verb'), ('게임', 'Noun'), ('제작사', 'Noun'), ('인', 'Josa'), ('펄', 'Noun'), ('어비스', 'Noun'), ('(', 'Punctuation'), ('83100', 'Number'), ('2.72%', 'Number'), (')', 'Foreign'), ('컴투스', 'Noun'), ('(', 'Punctuation'), ('102000', 'Number'), ('2.10%', 'Number'), (')', 'Foreign'), ('NHN', 'Alpha'), ('(', 'Punctuation'), ('69000', 'Number'), ('1.47%', 'Number'), (')', 'Foreign'), ('은', 'Noun'), ('주가', 'Noun'), ('가', 'Josa'), ('작년', 'Noun'), ('고', 'Modifier'), ('점', 'Noun'), ('에', 'Josa'), ('비해', 'Verb'), ('각각', 'Noun'), ('19.37%', 'Number'), ('20.85%', 'Number'), ('25.59%', 'Number'), ('떨어졌다', 'Verb'), ('.', 'Punctuation'), ('윤을정', 'Noun'), ('신', 'Modifier'), ('영', 'Modifier'), ('증권', 'Noun'), ('연구원', 'Noun'), ('은', 'Josa'), ('게임', 'Noun'), ('산업', 'Noun'), ('의', 'Josa'), ('트렌드', 'Noun'), ('가', 'Josa'), ('제', 'Modifier'), ('작', 'Modifier'), ('기간', 'Noun'), ('이', 'Josa'), ('오래', 'Adverb'), ('걸리는', 'Verb'), ('다중접속', 'Noun'), ('역할', 'Noun'), ('게임', 'Noun'), ('(', 'Punctuation'), ('MMORPG', 'Alpha'), (')', 'Punctuation'), ('으로', 'Josa'), ('이동', 'Noun'), ('하면서', 'Verb'), ('제작사', 'Noun'), ('들', 'Suffix'), ('의', 'Josa'), ('신작', 'Noun'), ('출시', 'Noun'), ('주기', 'Noun'), ('가', 'Josa'), ('길어졌다며', 'Verb'), ('대작', 'Noun'), ('이라고', 'Josa'), ('불릴', 'Verb'), ('게임', 'Noun'), ('이', 'Josa'), ('드물고', 'Adjective'), ('어렵게', 'Adjective'), ('출시', 'Noun'), ('된', 'Verb'), ('기', 'Modifier'), ('대작', 'Noun'), ('들', 'Suffix'), ('도', 'Josa'), ('대부분', 'Noun'), ('흥행', 'Noun'), ('에', 'Josa'), ('실패하면서', 'Adjective'), ('실적', 'Noun'), ('과', 'Josa'), ('주가', 'Noun'), ('모두', 'Noun'), ('부진한', 'Adjective'), ('것', 'Noun'), ('이라고', 'Josa'), ('설명', 'Noun'), ('했다', 'Verb'), ('.', 'Punctuation'), ('투자자', 'Noun'), ('들', 'Suffix'), ('이', 'Josa'), ('기다리는', 'Verb'), ('중국', 'Noun'), ('시장', 'Noun'), ('재개', 'Noun'), ('방도', 'Noun'), ('요원하다는', 'Adjective'), ('평가', 'Noun'), ('다', 'Josa'), ('.', 'Punctuation'), ('중국', 'Noun'), ('정부', 'Noun'), ('는', 'Josa'), ('2018년', 'Number'), ('3월', 'Number'), ('이후', 'Noun'), ('한국', 'Noun'), ('게임', 'Noun'), ('에', 'Josa'), ('대한', 'Noun'), ('판호', 'Noun'), ('(', 'Punctuation'), ('게임', 'Noun'), ('서비스', 'Noun'), ('허가', 'Noun'), ('권', 'Suffix'), (')', 'Punctuation'), ('발급', 'Noun'), ('을', 'Josa'), ('중단', 'Noun'), ('했다', 'Verb'), ('.', 'Punctuation'), ('한', 'Verb'), ('증권사', 'Noun'), ('애널', 'Noun'), ('리스트', 'Noun'), ('는', 'Josa'), ('게임', 'Noun'), ('업계', 'Noun'), ('내부', 'Noun'), ('에서는', 'Josa'), ('판호', 'Noun'), ('발급', 'Noun'), ('재개', 'Noun'), ('에', 'Josa'), ('대해', 'Noun'), ('사실', 'Noun'), ('상', 'Suffix'), ('포기', 'Noun'), ('한', 'Josa'), ('분위기', 'Noun'), ('라며', 'Noun'), ('시진핑', 'Noun'), ('중국', 'Noun'), ('국가주석', 'Noun'), ('방한', 'Noun'), ('을', 'Josa'), ('계기', 'Noun'), ('로', 'Josa'), ('발급', 'Noun'), ('이', 'Josa'), ('재개', 'Noun'), ('될', 'Verb'), ('것', 'Noun'), ('이라는', 'Josa'), ('예상', 'Noun'), ('은', 'Josa'), ('지나친', 'Verb'), ('낙관', 'Noun'), ('이라고', 'Josa'), ('지적', 'Noun'), ('했다', 'Verb'), ('.', 'Punctuation'), ('전문가', 'Noun'), ('들', 'Suffix'), ('은', 'Josa'), ('게임', 'Noun'), ('사', 'Noun'), ('들', 'Suffix'), ('의', 'Josa'), ('신작', 'Noun'), ('흥행', 'Noun'), ('에', 'Josa'), ('따라', 'Verb'), ('종목', 'Noun'), ('별로', 'Noun'), ('주가', 'Noun'), ('가', 'Josa'), ('크게', 'Noun'), ('갈릴', 'Noun'), ('것', 'Noun'), ('으로', 'Josa'), ('보고', 'Noun'), ('있다', 'Adjective'), ('.', 'Punctuation'), ('윤', 'Noun'), ('연구원', 'Noun'), ('은', 'Josa'), ('상반기', 'Noun'), ('에는', 'Josa'), ('웹', 'Noun'), ('보드게임', 'Noun'), ('규제', 'Noun'), ('완화', 'Noun'), ('로', 'Josa'), ('수익', 'Noun'), ('성', 'Suffix'), ('개선', 'Noun'), ('이', 'Josa'), ('기대', 'Noun'), ('되는', 'Verb'), ('NHN', 'Alpha'), ('하반기', 'Noun'), ('에는', 'Josa'), ('대규모', 'Noun'), ('신작', 'Noun'), ('출시', 'Noun'), ('를', 'Josa'), ('앞둔', 'Verb'), ('넷마블', 'Noun'), ('과', 'Josa'), ('펄', 'Noun'), ('어비스', 'Noun'), ('가', 'Josa'), ('유망', 'Noun'), ('하다고', 'Verb'), ('추천', 'Noun'), ('했다', 'Verb'), ('.', 'Punctuation'), ('전범', 'Noun'), ('진', 'Noun'), ('기자', 'Noun'), ('forwardhankyung.com', 'URL'), ('\\r\\n\\t\\t\\t\\t\\t\\t\\t\\t', 'Foreign')]\n"
     ]
    }
   ],
   "metadata": {}
  },
  {
   "cell_type": "code",
   "execution_count": 19,
   "source": [
    "# 빈도수세기 word frequency counter\r\n",
    "\r\n",
    "from collections import Counter\r\n",
    "\r\n",
    "count = []\r\n",
    "for k in tokens:\r\n",
    "    count.append(Counter(k))\r\n",
    "print(count[:2], end=\" \")\r\n",
    "\r\n",
    "\r\n",
    "# word_list = count.most_common(10)\r\n",
    "# for v in word_list:\r\n",
    "#     print(v)"
   ],
   "outputs": [
    {
     "output_type": "error",
     "ename": "NameError",
     "evalue": "name 'tokens' is not defined",
     "traceback": [
      "\u001b[1;31m---------------------------------------------------------------------------\u001b[0m",
      "\u001b[1;31mNameError\u001b[0m                                 Traceback (most recent call last)",
      "\u001b[1;32m~\\AppData\\Local\\Temp/ipykernel_19532/3122582446.py\u001b[0m in \u001b[0;36m<module>\u001b[1;34m\u001b[0m\n\u001b[0;32m      4\u001b[0m \u001b[1;33m\u001b[0m\u001b[0m\n\u001b[0;32m      5\u001b[0m \u001b[0mcount\u001b[0m \u001b[1;33m=\u001b[0m \u001b[1;33m[\u001b[0m\u001b[1;33m]\u001b[0m\u001b[1;33m\u001b[0m\u001b[1;33m\u001b[0m\u001b[0m\n\u001b[1;32m----> 6\u001b[1;33m \u001b[1;32mfor\u001b[0m \u001b[0mk\u001b[0m \u001b[1;32min\u001b[0m \u001b[0mtokens\u001b[0m\u001b[1;33m:\u001b[0m\u001b[1;33m\u001b[0m\u001b[1;33m\u001b[0m\u001b[0m\n\u001b[0m\u001b[0;32m      7\u001b[0m     \u001b[0mcount\u001b[0m\u001b[1;33m.\u001b[0m\u001b[0mappend\u001b[0m\u001b[1;33m(\u001b[0m\u001b[0mCounter\u001b[0m\u001b[1;33m(\u001b[0m\u001b[0mk\u001b[0m\u001b[1;33m)\u001b[0m\u001b[1;33m)\u001b[0m\u001b[1;33m\u001b[0m\u001b[1;33m\u001b[0m\u001b[0m\n\u001b[0;32m      8\u001b[0m \u001b[0mprint\u001b[0m\u001b[1;33m(\u001b[0m\u001b[0mcount\u001b[0m\u001b[1;33m[\u001b[0m\u001b[1;33m:\u001b[0m\u001b[1;36m2\u001b[0m\u001b[1;33m]\u001b[0m\u001b[1;33m,\u001b[0m \u001b[0mend\u001b[0m\u001b[1;33m=\u001b[0m\u001b[1;34m\" \"\u001b[0m\u001b[1;33m)\u001b[0m\u001b[1;33m\u001b[0m\u001b[1;33m\u001b[0m\u001b[0m\n",
      "\u001b[1;31mNameError\u001b[0m: name 'tokens' is not defined"
     ]
    }
   ],
   "metadata": {}
  },
  {
   "cell_type": "code",
   "execution_count": 13,
   "source": [
    "# foreign, josa, punctuation 제거\r\n",
    "\r\n",
    "pos = [\"Foreign\", \"Josa\", \"Punctuation\", \"URL\"]\r\n",
    "clean_words = []\r\n",
    "for lt in tagged_words:\r\n",
    "    for tags in lt:\r\n",
    "        if tags[1] not in pos:\r\n",
    "            clean_words.append(tags[0])\r\n",
    "\r\n",
    "# clean_words\r\n",
    "print(clean_words[:20])"
   ],
   "outputs": [
    {
     "output_type": "stream",
     "name": "stdout",
     "text": [
      "['한때', '해외', '영토', '확장', '따른', '성장', '스토리', '부각', '받으면서', '주식시장', '승승장구', '했던', '게임', '주', '들', '고전', '면', '하지', '못', '있다']\n"
     ]
    }
   ],
   "metadata": {}
  },
  {
   "cell_type": "code",
   "execution_count": 14,
   "source": [
    "punct = \"/-'?!.,#$%\\'()*+-/:;<=>@[\\\\]^_`{|}~\" + '\"\"“”’' + '∞θ÷α•à−β∅³π‘₹´°£€\\×™√²—–&'\r\n",
    "punct_mapping = {\"‘\": \"'\", \"₹\": \"e\", \"´\": \"'\", \"°\": \"\", \"€\": \"e\", \"™\": \"tm\", \"√\": \" sqrt \", \"×\": \"x\", \"²\": \"2\", \"—\": \"-\", \"–\": \"-\", \"’\": \"'\", \"_\": \"-\", \"`\": \"'\", '“': '\"', '”': '\"', '“': '\"', \"£\": \"e\", '∞': 'infinity', 'θ': 'theta', '÷': '/', 'α': 'alpha', '•': '.', 'à': 'a', '−': '-', 'β': 'beta', '∅': '', '³': '3', 'π': 'pi', }\r\n",
    "\r\n",
    "def clean_punc(text, punct, mapping): \r\n",
    "    for p in mapping: \r\n",
    "        text = text.replace(p, mapping[p])\r\n",
    "\r\n",
    "    for p in punct: \r\n",
    "        text = text.replace(p, f' {p} ')\r\n",
    "\r\n",
    "    specials = {'\\u200b': ' ', '…': ' ... ', '\\ufeff': '', 'करना': '', 'है': ''} \r\n",
    "    for s in specials: \r\n",
    "        text = text.replace(s, specials[s])\r\n",
    "\r\n",
    "    return text.strip()\r\n",
    "\r\n",
    "no_punc = []\r\n",
    "for line in text:\r\n",
    "    no_punc.append(clean_punc(line, punct, punct_mapping))\r\n",
    "no_punc[0]"
   ],
   "outputs": [
    {
     "output_type": "execute_result",
     "data": {
      "text/plain": [
       "'한때 해외 영토 확장에 따른 성장 스토리가 부각받으면서 주식시장에서 승승장구했던 게임주들이 고전을 면하지 못하고 있다 .  업종 대장주인 엔씨소프트 ( 599000 1 . 35 %  ) 는 신작 리니지2M의 흥행을 기반으로 질주하고 있지만 나머지 종목들은 흥행작 부재 속에 주가도 힘을 잃은 모습이다 . \\r\\n\\r\\n\\r\\n\\r\\n\\r\\n\\r\\n\\r\\n                            9일 유가증권시장에서 넷마블 ( 125000 2 . 88 %  ) 은 1700원 ( 1 . 95 %  )  오른 8만9000원에 마감했다 .  이날 상승했지만 넷마블 주가는 작년 고점에 비해 35 . 51 %  떨어졌다 . 지난해 선보인 대규모 신작 BTS월드가 흥행에 실패하면서 주가가 급락했고 이후 회복하지 못하고 있다 .  금융정보업체 에프앤가이드에 따르면 넷마블의 지난해 영업이익 컨센서스 ( 증권사 추정치 평균 ) 는 전년 대비 5 . 5 %  감소한 2283억원이다 .  작년 상반기까지만 해도 게임업종 대장주 자리를 두고 다투던 엔씨소프트와의 시가총액 차이는 9일 기준으로 5조7167억원까지 벌어졌다 . 주가 부진은 엔씨소프트를 제외한 게임주들의 공통적 현상이다 .  시가총액 1조원이 넘는 게임 제작사인 펄어비스 ( 83100 2 . 72 %  )  컴투스 ( 102000 2 . 10 %  )  NHN ( 69000 1 . 47 %  ) 은 주가가 작년 고점에 비해 각각 19 . 37 %  20 . 85 %  25 . 59 %  떨어졌다 . 윤을정 신영증권 연구원은 게임산업의 트렌드가 제작기간이 오래 걸리는 다중접속역할게임 ( MMORPG ) 으로 이동하면서 제작사들의 신작 출시 주기가 길어졌다며 대작이라고 불릴 게임이 드물고 어렵게 출시된 기대작들도 대부분 흥행에 실패하면서 실적과 주가 모두 부진한 것이라고 설명했다 . 투자자들이 기다리는 중국 시장 재개방도 요원하다는 평가다 .  중국 정부는 2018년 3월 이후 한국 게임에 대한 판호 ( 게임서비스 허가권 )  발급을 중단했다 .  한 증권사 애널리스트는 게임업계 내부에서는 판호 발급 재개에 대해 사실상 포기한 분위기라며 시진핑 중국 국가주석 방한을 계기로 발급이 재개될 것이라는 예상은 지나친 낙관이라고 지적했다 . 전문가들은 게임사들의 신작 흥행에 따라 종목별로 주가가 크게 갈릴 것으로 보고 있다 .  윤 연구원은 상반기에는 웹보드게임 규제 완화로 수익성 개선이 기대되는 NHN 하반기에는 대규모 신작 출시를 앞둔 넷마블과 펄어비스가 유망하다고 추천했다 . 전범진 기자 forwardhankyung . com'"
      ]
     },
     "metadata": {},
     "execution_count": 14
    }
   ],
   "metadata": {}
  },
  {
   "cell_type": "code",
   "execution_count": 17,
   "source": [
    "! git clone https://github.com/SOMJANG/Mecab-ko-for-Google-Colab.git\r\n",
    "! bash Mecab-ko-for-Google-Colab/install_mecab-ko_on_colab190912.sh"
   ],
   "outputs": [
    {
     "output_type": "stream",
     "name": "stderr",
     "text": [
      "fatal: destination path 'Mecab-ko-for-Google-Colab' already exists and is not an empty directory.\n",
      "'bash'��(��) ���� �Ǵ� �ܺ� ����, ������ �� �ִ� ���α׷�, �Ǵ�\n",
      "��ġ ������ �ƴմϴ�.\n"
     ]
    }
   ],
   "metadata": {}
  },
  {
   "cell_type": "code",
   "execution_count": 18,
   "source": [
    "from eunjeon import Mecab\r\n",
    "\r\n",
    "tokenizer= Mecab()\r\n",
    "\r\n",
    "tokens = []\r\n",
    "for i in no_punc:\r\n",
    "    tokens.append(tokenizer.morphs(i))\r\n",
    "print(tokens[0], end=' ')"
   ],
   "outputs": [
    {
     "output_type": "error",
     "ename": "ModuleNotFoundError",
     "evalue": "No module named 'eunjeon'",
     "traceback": [
      "\u001b[1;31m---------------------------------------------------------------------------\u001b[0m",
      "\u001b[1;31mModuleNotFoundError\u001b[0m                       Traceback (most recent call last)",
      "\u001b[1;32m~\\AppData\\Local\\Temp/ipykernel_19532/1151494454.py\u001b[0m in \u001b[0;36m<module>\u001b[1;34m\u001b[0m\n\u001b[1;32m----> 1\u001b[1;33m \u001b[1;32mfrom\u001b[0m \u001b[0meunjeon\u001b[0m \u001b[1;32mimport\u001b[0m \u001b[0mMecab\u001b[0m\u001b[1;33m\u001b[0m\u001b[1;33m\u001b[0m\u001b[0m\n\u001b[0m\u001b[0;32m      2\u001b[0m \u001b[1;33m\u001b[0m\u001b[0m\n\u001b[0;32m      3\u001b[0m \u001b[0mtokenizer\u001b[0m\u001b[1;33m=\u001b[0m \u001b[0mMecab\u001b[0m\u001b[1;33m(\u001b[0m\u001b[1;33m)\u001b[0m\u001b[1;33m\u001b[0m\u001b[1;33m\u001b[0m\u001b[0m\n\u001b[0;32m      4\u001b[0m \u001b[1;33m\u001b[0m\u001b[0m\n\u001b[0;32m      5\u001b[0m \u001b[0mtokens\u001b[0m \u001b[1;33m=\u001b[0m \u001b[1;33m[\u001b[0m\u001b[1;33m]\u001b[0m\u001b[1;33m\u001b[0m\u001b[1;33m\u001b[0m\u001b[0m\n",
      "\u001b[1;31mModuleNotFoundError\u001b[0m: No module named 'eunjeon'"
     ]
    }
   ],
   "metadata": {}
  },
  {
   "cell_type": "code",
   "execution_count": null,
   "source": [],
   "outputs": [],
   "metadata": {}
  }
 ],
 "metadata": {
  "orig_nbformat": 4,
  "language_info": {
   "name": "python",
   "version": "3.8.11",
   "mimetype": "text/x-python",
   "codemirror_mode": {
    "name": "ipython",
    "version": 3
   },
   "pygments_lexer": "ipython3",
   "nbconvert_exporter": "python",
   "file_extension": ".py"
  },
  "kernelspec": {
   "name": "python3",
   "display_name": "Python 3.8.11 64-bit ('nlp': conda)"
  },
  "interpreter": {
   "hash": "3384638f5810346ec4e47c085d16c91a672dec4d6598dd6288d516a5e6f3bebf"
  }
 },
 "nbformat": 4,
 "nbformat_minor": 2
}